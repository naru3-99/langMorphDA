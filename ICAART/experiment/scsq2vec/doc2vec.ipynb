{
 "cells": [
  {
   "cell_type": "markdown",
   "metadata": {},
   "source": [
    "### doc2vecでベクトル化を行う"
   ]
  },
  {
   "cell_type": "code",
   "execution_count": 1,
   "metadata": {},
   "outputs": [],
   "source": [
    "from gensim.models import Doc2Vec\n",
    "from gensim.models.doc2vec import TaggedDocument\n",
    "from typing import List, Any\n",
    "import os\n",
    "\n",
    "from lib763.fs import (\n",
    "    load_str_from_file,\n",
    "    get_all_file_path_in,\n",
    "    save_str_to_file,\n",
    "    ensure_path_exists,\n",
    ")\n",
    "from lib763.Logger import Logger\n",
    "\n",
    "from CONST import (\n",
    "    DATA_PATH,\n",
    "    MODEL_D2V_PATH,\n",
    "    SPLITED_DATA_PATH,\n",
    "    TRAIN_LOG_PATH,\n",
    ")"
   ]
  },
  {
   "cell_type": "code",
   "execution_count": 2,
   "metadata": {},
   "outputs": [],
   "source": [
    "def divide_list(lst: List[Any], m: int) -> List[List[Any]]:\n",
    "    \"\"\"\n",
    "    リストをm個に分割します。\n",
    "    nがmで割り切れない場合、余りの要素は順に最初の部分リストに追加されます。\n",
    "\n",
    "    Args:\n",
    "        lst (List[Any]): 分割するリスト\n",
    "        m (int): 分割する個数\n",
    "\n",
    "    Returns:\n",
    "        List[List[Any]]: 分割されたリスト\n",
    "    \"\"\"\n",
    "    quotient, remainder = divmod(len(lst), m)\n",
    "    return [\n",
    "        lst[\n",
    "            i * quotient\n",
    "            + min(i, remainder): (i + 1) * quotient\n",
    "            + min(i + 1, remainder)\n",
    "        ]\n",
    "        for i in range(m)\n",
    "    ]\n",
    "\n",
    "\n",
    "# 学習データを10000ずつに分割\n",
    "def split_data():\n",
    "    for i, ls in enumerate(divide_list(get_all_file_path_in(DATA_PATH), 200)):\n",
    "        save_str_to_file(\n",
    "            \"\\n\".join([load_str_from_file(p) for p in ls]),\n",
    "            f\"{SPLITED_DATA_PATH}{str(i).zfill(4)}.txt\",\n",
    "        )\n",
    "\n",
    "\n",
    "ensure_path_exists(SPLITED_DATA_PATH)\n",
    "if len(get_all_file_path_in(SPLITED_DATA_PATH)) == 0:\n",
    "    split_data()"
   ]
  },
  {
   "cell_type": "code",
   "execution_count": 3,
   "metadata": {},
   "outputs": [
    {
     "name": "stdout",
     "output_type": "stream",
     "text": [
      "loaded model = ./d2v_models/model_0199.d2v\n"
     ]
    }
   ],
   "source": [
    "# Doc2Vecモデル\n",
    "def get_model():\n",
    "    ensure_path_exists(MODEL_D2V_PATH)\n",
    "    model_path_ls = get_all_file_path_in(MODEL_D2V_PATH)\n",
    "    if len(model_path_ls) != 0:\n",
    "        print(f'loaded model = {model_path_ls[-1]}')\n",
    "        return Doc2Vec.load(model_path_ls[-1])\n",
    "\n",
    "    model = Doc2Vec(\n",
    "        vector_size=30000,  # ベクトルの次元数\n",
    "        window=1000,  # コンテキストウィンドウのサイズ\n",
    "        min_count=0,  # 最低出現頻度の単語を考慮\n",
    "        dm=0,\n",
    "    )\n",
    "    return model\n",
    "\n",
    "\n",
    "model = get_model()"
   ]
  },
  {
   "cell_type": "code",
   "execution_count": 4,
   "metadata": {},
   "outputs": [],
   "source": [
    "# log系の段取り\n",
    "logger = Logger(TRAIN_LOG_PATH)\n",
    "if os.path.exists(TRAIN_LOG_PATH):\n",
    "    already_trained_path_ls = logger.get_log().split(\"\\n\")\n",
    "else:\n",
    "    already_trained_path_ls = []"
   ]
  },
  {
   "cell_type": "code",
   "execution_count": null,
   "metadata": {},
   "outputs": [],
   "source": [
    "# 学習開始\n",
    "for i, path in enumerate(get_all_file_path_in(SPLITED_DATA_PATH)):\n",
    "    # 学習済みなら次へ\n",
    "    if path in already_trained_path_ls:\n",
    "        continue\n",
    "    \n",
    "    batch = [\n",
    "        TaggedDocument(words=row.split(\",\"), tags=[str(i)])\n",
    "        for i, row in enumerate(load_str_from_file(path).split(\"\\n\"))\n",
    "    ]\n",
    "    if i == 0:\n",
    "        model.build_vocab(corpus_iterable=batch)\n",
    "    else:\n",
    "        model.build_vocab(corpus_iterable=batch, update=True)\n",
    "    model.train(corpus_iterable=batch,\n",
    "                total_examples=model.corpus_count, epochs=1)\n",
    "    \n",
    "    model.save(f\"{MODEL_D2V_PATH}model_{str(i).zfill(4)}.d2v\")\n",
    "    logger.add_log(path)"
   ]
  }
 ],
 "metadata": {
  "kernelspec": {
   "display_name": "Python 3",
   "language": "python",
   "name": "python3"
  },
  "language_info": {
   "codemirror_mode": {
    "name": "ipython",
    "version": 3
   },
   "file_extension": ".py",
   "mimetype": "text/x-python",
   "name": "python",
   "nbconvert_exporter": "python",
   "pygments_lexer": "ipython3",
   "version": "3.11.5"
  },
  "orig_nbformat": 4
 },
 "nbformat": 4,
 "nbformat_minor": 2
}
