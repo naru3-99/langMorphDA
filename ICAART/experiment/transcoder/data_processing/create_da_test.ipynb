{
 "cells": [
  {
   "cell_type": "markdown",
   "metadata": {},
   "source": [
    "#### 生成した関数をテストデータに張り付ける  \n",
    "1. 変更後の関数をテストデータに貼り付け\n",
    "   - f_gold -> f_filled\n",
    "   - コメント文 TOFILL の下に貼り付け\n",
    "   - meta式の計算機精度などを計算するテストを作成\n",
    "1. 翻訳後の動的解析用のコードを作成\n",
    "1. 翻訳前の動的解析用のコードを作成"
   ]
  },
  {
   "cell_type": "code",
   "execution_count": null,
   "metadata": {},
   "outputs": [],
   "source": [
    "from lib763.fs import (\n",
    "    save_str_to_file,\n",
    "    load_str_from_file,\n",
    "    get_all_file_names_in,\n",
    "    get_all_dir_names_in,\n",
    "    get_all_file_path_in,\n",
    "    ensure_path_exists,\n",
    "    create_zip_from_list,\n",
    "    get_file_name,\n",
    "    get_file_rows_iter,\n",
    "    get_file_name_without_ext\n",
    ")\n",
    "from lib763.regex import replace_patterns, extract_matching_strings"
   ]
  },
  {
   "cell_type": "code",
   "execution_count": null,
   "metadata": {},
   "outputs": [],
   "source": [
    "from CONST import (\n",
    "    J2PY_META_TEST_DIR,\n",
    "    PY2J_META_TEST_DIR,\n",
    "    J2PY_GENERATED_DIR,\n",
    "    PY2J_GENERATED_DIR,\n",
    "    J2PY_EVAL_TEST_DIR,\n",
    "    PY2J_EVAL_TEST_DIR,\n",
    "    AFTER_DA_PYTHON_DIR,\n",
    "    AFTER_DA_JAVA_DIR,\n",
    "    PYTHON_TGT_FUNC_DIR,\n",
    "    BEFORE_DA_JAVA_DIR,\n",
    "    BEFORE_DA_PYTHON_DIR,\n",
    "    FIXED_BEFORE_JAVA_DIR,\n",
    "    FIXED_BEFORE_PYTHON_DIR,\n",
    ")"
   ]
  },
  {
   "cell_type": "code",
   "execution_count": null,
   "metadata": {},
   "outputs": [],
   "source": [
    "# meta式のテストを保存するディレクトリ\n",
    "ensure_path_exists(J2PY_EVAL_TEST_DIR)\n",
    "ensure_path_exists(PY2J_EVAL_TEST_DIR)\n",
    "\n",
    "# 翻訳語のテストを保存するディレクトリ\n",
    "ensure_path_exists(AFTER_DA_JAVA_DIR)\n",
    "ensure_path_exists(AFTER_DA_PYTHON_DIR)"
   ]
  },
  {
   "cell_type": "code",
   "execution_count": null,
   "metadata": {},
   "outputs": [],
   "source": [
    "test_j2py_path_ls = get_all_file_path_in(J2PY_META_TEST_DIR)\n",
    "test_py2j_path_ls = get_all_file_path_in(PY2J_META_TEST_DIR)"
   ]
  },
  {
   "cell_type": "markdown",
   "metadata": {},
   "source": [
    "1. 変更後の関数をテストデータに貼り付け\n"
   ]
  },
  {
   "cell_type": "code",
   "execution_count": null,
   "metadata": {},
   "outputs": [],
   "source": [
    "def add_func_tofill_below(func_path, test_path):\n",
    "    # 生成した関数の名前をf_filledに変更する\n",
    "    func_impl_str = replace_patterns(\n",
    "        load_str_from_file(func_path), {\"f_gold\": \"f_filled\"}\n",
    "    )\n",
    "    test_impl_str = load_str_from_file(test_path)\n",
    "    # コメントの下に貼り付け\n",
    "    return \"\\n\".join(\n",
    "        [\n",
    "            row + ((\"\\n\" + func_impl_str) if \"TOFILL\" in row else \"\")\n",
    "            for row in test_impl_str.split(\"\\n\")\n",
    "        ]\n",
    "    )"
   ]
  },
  {
   "cell_type": "code",
   "execution_count": null,
   "metadata": {},
   "outputs": [],
   "source": [
    "# metaのテストを生成：python\n",
    "for dir_name in get_all_dir_names_in(J2PY_GENERATED_DIR):\n",
    "    save_dir = f\"{J2PY_EVAL_TEST_DIR}{dir_name}/\"\n",
    "    ensure_path_exists(save_dir)\n",
    "    tgt_func_parent_dir = f\"{J2PY_GENERATED_DIR}{dir_name}/\"\n",
    "    tgt_test_file_path = f\"{J2PY_META_TEST_DIR}{dir_name}.py\"\n",
    "\n",
    "    for file_name in get_all_file_names_in(tgt_func_parent_dir):\n",
    "        tgt_func_path = f\"{tgt_func_parent_dir}{file_name}\"\n",
    "        new_func = add_func_tofill_below(tgt_func_path, tgt_test_file_path)\n",
    "        save_str_to_file(new_func, f\"{save_dir}{file_name}\")"
   ]
  },
  {
   "cell_type": "code",
   "execution_count": null,
   "metadata": {},
   "outputs": [],
   "source": [
    "# pythonのpatch: numpyのインポート\n",
    "for path in get_all_file_path_in(f\"{J2PY_EVAL_TEST_DIR}\"):\n",
    "    save_str_to_file(\"\\n\".join([\"import numpy as np\"] + get_file_rows_iter(path)), path)"
   ]
  },
  {
   "cell_type": "code",
   "execution_count": null,
   "metadata": {},
   "outputs": [],
   "source": [
    "# metaのテストを生成：java\n",
    "for dir_name in get_all_dir_names_in(PY2J_GENERATED_DIR):\n",
    "    save_dir = f\"{PY2J_EVAL_TEST_DIR}{dir_name}/\"\n",
    "    ensure_path_exists(save_dir)\n",
    "    tgt_func_parent_dir = f\"{PY2J_GENERATED_DIR}{dir_name}/\"\n",
    "    tgt_test_file_path = f\"{PY2J_META_TEST_DIR}{dir_name}.java\"\n",
    "\n",
    "    for file_name in get_all_file_names_in(tgt_func_parent_dir):\n",
    "        tgt_func_path = f\"{tgt_func_parent_dir}{file_name}\"\n",
    "        new_func = add_func_tofill_below(tgt_func_path, tgt_test_file_path)\n",
    "        save_str_to_file(new_func, f\"{save_dir}{file_name}\")"
   ]
  },
  {
   "cell_type": "code",
   "execution_count": null,
   "metadata": {},
   "outputs": [],
   "source": [
    "# patch for java: import javafxを削除\n",
    "for path in get_all_file_path_in(f\"{PY2J_EVAL_TEST_DIR}\"):\n",
    "    save_str_to_file(\n",
    "        \"\\n\".join(\n",
    "            [\n",
    "                row\n",
    "                for row in get_file_rows_iter(path)\n",
    "                if not (\"import\" in row and \"javafx\" in row)\n",
    "            ]\n",
    "        ),\n",
    "        path,\n",
    "    )"
   ]
  },
  {
   "cell_type": "markdown",
   "metadata": {},
   "source": [
    "2. 翻訳後の関数を動的解析するためのコードを作成\n"
   ]
  },
  {
   "cell_type": "markdown",
   "metadata": {},
   "source": [
    "python\n"
   ]
  },
  {
   "cell_type": "code",
   "execution_count": null,
   "metadata": {},
   "outputs": [],
   "source": [
    "def create_after_python(test_name):\n",
    "    # test_nameはテスト名(exp:ADD_1_TO_A_GIVEN_NUMBER)\n",
    "\n",
    "    # コメント文と無駄な行を排除した行の配列\n",
    "    # ソースコードはtest_by_meta\n",
    "    src_row_ls = [\n",
    "        row\n",
    "        for row in load_str_from_file(f\"{J2PY_META_TEST_DIR}{test_name}.py\").split(\"\\n\")\n",
    "        if (not row.replace(\" \", \"\").startswith(\"#\") and len(row) != 0)\n",
    "    ]\n",
    "\n",
    "    # import文の行のリスト\n",
    "    import_row_ls = [row for row in src_row_ls if \"import\" in row]\n",
    "\n",
    "    # paramの実装を取得\n",
    "    param_row_ls = []\n",
    "    flag = False\n",
    "    bracket_num = 0\n",
    "    param_row = []\n",
    "    for row in src_row_ls:\n",
    "        if not flag and \"param\" in row and \"=\" in row:\n",
    "            flag = True\n",
    "        if flag:\n",
    "            param_row_ls.append(row.replace(\" \", \"\"))\n",
    "            bracket_num += row.count(\"[\")\n",
    "            bracket_num -= row.count(\"]\")\n",
    "            if bracket_num == 0:\n",
    "                break\n",
    "    try:\n",
    "        exec(\"\\n\".join(param_row_ls))\n",
    "        exec(\"param_row.append(f'f_filled(*{param[0]})')\")\n",
    "    except:\n",
    "        print(test_name)\n",
    "        return None\n",
    "    if len(param_row) == 0:\n",
    "        print(test_name)\n",
    "        return None\n",
    "\n",
    "    for cand_path in get_all_file_path_in(f\"{J2PY_GENERATED_DIR}{test_name}\"):\n",
    "        cand_file_name = get_file_name(cand_path)\n",
    "        # f_filled関数:transcoderにより生成された関数\n",
    "        f_filled_row_ls = replace_patterns(\n",
    "            load_str_from_file(cand_path), {\"f_gold\": \"f_filled\"}\n",
    "        ).split(\"\\n\")\n",
    "\n",
    "        save_str_to_file(\n",
    "            \"\\n\".join(import_row_ls + f_filled_row_ls + param_row),\n",
    "            f\"{AFTER_DA_PYTHON_DIR}{test_name}/{cand_file_name}\",\n",
    "        )"
   ]
  },
  {
   "cell_type": "code",
   "execution_count": null,
   "metadata": {},
   "outputs": [],
   "source": [
    "for test_name in get_all_dir_names_in(J2PY_EVAL_TEST_DIR):\n",
    "    ensure_path_exists(f\"{AFTER_DA_PYTHON_DIR}{test_name}/\")\n",
    "    create_after_python(test_name)"
   ]
  },
  {
   "cell_type": "code",
   "execution_count": null,
   "metadata": {},
   "outputs": [],
   "source": [
    "# patch1 import numpy\n",
    "for path in get_all_file_path_in(AFTER_DA_PYTHON_DIR):\n",
    "    save_str_to_file(\"\\n\".join([\"import numpy as np\"] + get_file_rows_iter(path)), path)"
   ]
  },
  {
   "cell_type": "code",
   "execution_count": null,
   "metadata": {},
   "outputs": [],
   "source": [
    "# patch2\n",
    "for path in get_all_file_path_in(FIXED_BEFORE_PYTHON_DIR):\n",
    "    testname = get_file_name_without_ext(path)\n",
    "    for row in get_file_rows_iter(path)[::-1]:\n",
    "        if 'f_gold' in row:\n",
    "            invoke_row = row\n",
    "            break\n",
    "    invoke_row = invoke_row.replace('f_gold','f_filled')\n",
    "    for testpath in get_all_file_path_in(f'{AFTER_DA_PYTHON_DIR}{testname}/'):\n",
    "        save_row_ls = get_file_rows_iter(testpath)[::-1]\n",
    "        for i,row in enumerate(save_row_ls.copy()):\n",
    "            if 'f_filled' in row:\n",
    "                save_row_ls[i] = invoke_row\n",
    "                break\n",
    "        save_str_to_file('\\n'.join(save_row_ls[::-1]),testpath)"
   ]
  },
  {
   "cell_type": "markdown",
   "metadata": {},
   "source": [
    "java\n"
   ]
  },
  {
   "cell_type": "code",
   "execution_count": null,
   "metadata": {},
   "outputs": [],
   "source": [
    "def create_after_java(test_name):\n",
    "    # test_nameはテスト名(exp:ADD_1_TO_A_GIVEN_NUMBER)\n",
    "\n",
    "    # コメント文と無駄な行を排除した行の配列\n",
    "    # ソースコードはtest_by_meta\n",
    "    src_row_ls = [\n",
    "        row\n",
    "        for row in load_str_from_file(f\"{PY2J_META_TEST_DIR}{test_name}.java\").split(\n",
    "            \"\\n\"\n",
    "        )\n",
    "        if (not row.replace(\" \", \"\").startswith(\"//\") and len(row) != 0)\n",
    "    ]\n",
    "    src_row_ls = [\n",
    "        row for row in src_row_ls if not (\"javafx\" in row and \"import\" in row)\n",
    "    ]\n",
    "\n",
    "    # f_goldを削除する\n",
    "    removed_fgold_row_ls = []\n",
    "    finished = False\n",
    "    fgold_flag = False\n",
    "    bracket_num = 0\n",
    "    for row in src_row_ls:\n",
    "        if finished:\n",
    "            removed_fgold_row_ls.append(row)\n",
    "            continue\n",
    "        if not fgold_flag and not \"f_gold\" in row:\n",
    "            removed_fgold_row_ls.append(row)\n",
    "            continue\n",
    "        else:\n",
    "            fgold_flag = True\n",
    "        # f_gold関数の行を対処する\n",
    "        if fgold_flag:\n",
    "            bracket_num += row.count(\"{\")\n",
    "            bracket_num -= row.count(\"}\")\n",
    "            if bracket_num == 0:\n",
    "                finished = True\n",
    "                fgold_flag = False\n",
    "\n",
    "    # main文を変更する\n",
    "    main_changed_str_ls = []\n",
    "    main_flag = False\n",
    "    bracket_num = 1\n",
    "    param_dict = {}\n",
    "    file_str_ls = removed_fgold_row_ls.copy()\n",
    "    for i, row in enumerate(removed_fgold_row_ls):\n",
    "        if not main_flag:\n",
    "            # not in main method\n",
    "            main_changed_str_ls.append(row)\n",
    "            main_flag = \"void main\" in row\n",
    "            continue\n",
    "        # main method\n",
    "        bracket_num += row.count(\"{\")\n",
    "        bracket_num -= row.count(\"}\")\n",
    "        if bracket_num == 0:\n",
    "            # end of main method\n",
    "            main_flag = False\n",
    "            main_changed_str_ls.append(\n",
    "                \"f_filled(\" + \",\".join(param_dict.values()) + \");\"\n",
    "            )\n",
    "            main_changed_str_ls.append(\"}\")\n",
    "        else:\n",
    "            # still in main method\n",
    "            if \"param\" in row and \"add\" in row:\n",
    "                param_num = row.split(\".\")[0]\n",
    "                if not param_num in param_dict.keys():\n",
    "                    param_all_row_ls = []\n",
    "                    for param_row in file_str_ls[i:]:\n",
    "                        param_all_row_ls.append(param_row.replace(\"  \", \" \"))\n",
    "                        if \";\" in param_row:\n",
    "                            break\n",
    "                    param_str = extract_matching_strings(\n",
    "                        \"\".join(param_all_row_ls), r\"\\((.*?)\\)\"\n",
    "                    )[0]\n",
    "                    param_dict[param_num] = param_str\n",
    "    main_start_index = next(\n",
    "        (\n",
    "            idx\n",
    "            for idx, row in enumerate(main_changed_str_ls)\n",
    "            if \"main\" in row and \"static\" in row\n",
    "        ),\n",
    "        None,\n",
    "    )\n",
    "    if main_start_index is None:\n",
    "        print(test_name)\n",
    "        return\n",
    "    for cand_path in get_all_file_path_in(f\"{PY2J_GENERATED_DIR}{test_name}\"):\n",
    "        cand_file_name = get_file_name(cand_path)\n",
    "        # f_filled関数:transcoderにより生成された関数\n",
    "        f_filled_row_ls = replace_patterns(\n",
    "            load_str_from_file(cand_path), {\"f_gold\": \"f_filled\"}\n",
    "        ).split(\"\\n\")\n",
    "\n",
    "        save_str = \"\\n\".join(\n",
    "            main_changed_str_ls[:main_start_index]\n",
    "            + f_filled_row_ls\n",
    "            + main_changed_str_ls[main_start_index:]\n",
    "        )\n",
    "\n",
    "        save_str_to_file(\n",
    "            save_str,\n",
    "            f\"{AFTER_DA_JAVA_DIR}{test_name}/{cand_file_name}\",\n",
    "        )"
   ]
  },
  {
   "cell_type": "code",
   "execution_count": null,
   "metadata": {},
   "outputs": [],
   "source": [
    "for test_name in get_all_dir_names_in(PY2J_EVAL_TEST_DIR):\n",
    "    ensure_path_exists(f\"{AFTER_DA_JAVA_DIR}{test_name}/\")\n",
    "    create_after_java(test_name)"
   ]
  },
  {
   "cell_type": "markdown",
   "metadata": {},
   "source": [
    "3. 翻訳前の動的解析用コードを作成"
   ]
  },
  {
   "cell_type": "markdown",
   "metadata": {},
   "source": [
    "python"
   ]
  },
  {
   "cell_type": "code",
   "execution_count": null,
   "metadata": {},
   "outputs": [],
   "source": [
    "def create_before_python(test_name: str):\n",
    "    # 翻訳前のコード：f_gold\n",
    "    f_gold_row_ls = load_str_from_file(f\"{PYTHON_TGT_FUNC_DIR}{test_name}.py\").split(\n",
    "        \"\\n\"\n",
    "    )\n",
    "\n",
    "    # コメント文と無駄な行を排除した行の配列\n",
    "    # ソースコードはtest_by_meta\n",
    "    src_row_ls = [\n",
    "        row\n",
    "        for row in load_str_from_file(f\"{J2PY_META_TEST_DIR}{test_name}.py\").split(\"\\n\")\n",
    "        if (not row.replace(\" \", \"\").startswith(\"#\") and len(row) != 0)\n",
    "    ]\n",
    "\n",
    "    # import文の行のリスト\n",
    "    import_row_ls = [row for row in src_row_ls if \"import\" in row]\n",
    "\n",
    "    # paramの実装を取得\n",
    "    param_row_ls = []\n",
    "    flag = False\n",
    "    bracket_num = 0\n",
    "    param_row = []\n",
    "    for row in src_row_ls:\n",
    "        if not flag and \"param\" in row and \"=\" in row:\n",
    "            flag = True\n",
    "        if flag:\n",
    "            param_row_ls.append(row.replace(\" \", \"\"))\n",
    "            bracket_num += row.count(\"[\")\n",
    "            bracket_num -= row.count(\"]\")\n",
    "            if bracket_num == 0:\n",
    "                break\n",
    "    try:\n",
    "        exec(\"\\n\".join(param_row_ls))\n",
    "        exec(\"param_row.append(f'f_gold(*{param[0]})')\")\n",
    "    except:\n",
    "        print(test_name)\n",
    "        return\n",
    "    if len(param_row) == 0:\n",
    "        print(test_name)\n",
    "        return\n",
    "\n",
    "    save_str_to_file(\n",
    "        \"\\n\".join(import_row_ls + f_gold_row_ls + param_row),\n",
    "        f\"{BEFORE_DA_PYTHON_DIR}{test_name}.py\",\n",
    "    )"
   ]
  },
  {
   "cell_type": "code",
   "execution_count": null,
   "metadata": {},
   "outputs": [],
   "source": [
    "ensure_path_exists(f\"{BEFORE_DA_PYTHON_DIR}\")\n",
    "for test_name in get_all_dir_names_in(J2PY_EVAL_TEST_DIR):\n",
    "    create_before_python(test_name)"
   ]
  },
  {
   "cell_type": "markdown",
   "metadata": {},
   "source": [
    "java"
   ]
  },
  {
   "cell_type": "code",
   "execution_count": null,
   "metadata": {},
   "outputs": [],
   "source": [
    "def create_before_java(test_name):\n",
    "    # test_nameはテスト名(exp:ADD_1_TO_A_GIVEN_NUMBER)\n",
    "\n",
    "    # コメント文と無駄な行を排除した行の配列\n",
    "    # ソースコードはtest_by_meta\n",
    "    src_row_ls = [\n",
    "        row\n",
    "        for row in load_str_from_file(f\"{PY2J_META_TEST_DIR}{test_name}.java\").split(\n",
    "            \"\\n\"\n",
    "        )\n",
    "        if (not row.replace(\" \", \"\").startswith(\"//\") and len(row) != 0)\n",
    "    ]\n",
    "    src_row_ls = [\n",
    "        row for row in src_row_ls if not (\"javafx\" in row and \"import\" in row)\n",
    "    ]\n",
    "\n",
    "    # main文を変更する\n",
    "    main_changed_str_ls = []\n",
    "    main_flag = False\n",
    "    bracket_num = 1\n",
    "    param_dict = {}\n",
    "    for i, row in enumerate(src_row_ls):\n",
    "        if not main_flag:\n",
    "            # not in main method\n",
    "            main_changed_str_ls.append(row)\n",
    "            main_flag = \"void main\" in row\n",
    "            continue\n",
    "        # main method\n",
    "        bracket_num += row.count(\"{\")\n",
    "        bracket_num -= row.count(\"}\")\n",
    "        if bracket_num == 0:\n",
    "            # end of main method\n",
    "            main_flag = False\n",
    "            main_changed_str_ls.append(\"f_gold(\" + \",\".join(param_dict.values()) + \");\")\n",
    "            main_changed_str_ls.append(\"}\")\n",
    "        else:\n",
    "            # still in main method\n",
    "            if \"param\" in row and \"add\" in row:\n",
    "                param_num = row.split(\".\")[0]\n",
    "                if not param_num in param_dict.keys():\n",
    "                    param_all_row_ls = []\n",
    "                    for param_row in src_row_ls[i:]:\n",
    "                        param_all_row_ls.append(param_row.replace(\"  \", \" \"))\n",
    "                        if \";\" in param_row:\n",
    "                            break\n",
    "                    param_str = extract_matching_strings(\n",
    "                        \"\".join(param_all_row_ls), r\"\\((.*?)\\)\"\n",
    "                    )[0]\n",
    "                    param_dict[param_num] = param_str\n",
    "\n",
    "    save_str_to_file(\n",
    "        \"\\n\".join(main_changed_str_ls),\n",
    "        f\"{BEFORE_DA_JAVA_DIR}{test_name}.java\",\n",
    "    )"
   ]
  },
  {
   "cell_type": "code",
   "execution_count": null,
   "metadata": {},
   "outputs": [],
   "source": [
    "ensure_path_exists(BEFORE_DA_JAVA_DIR)\n",
    "for test_name in get_all_dir_names_in(PY2J_EVAL_TEST_DIR):\n",
    "    create_before_java(test_name)"
   ]
  },
  {
   "cell_type": "markdown",
   "metadata": {},
   "source": [
    "create zip"
   ]
  },
  {
   "cell_type": "code",
   "execution_count": null,
   "metadata": {},
   "outputs": [],
   "source": [
    "save_str_to_file(\"\", \"input.txt\")\n",
    "for test_name in get_all_dir_names_in(PY2J_EVAL_TEST_DIR):\n",
    "    file_path_ls = (\n",
    "        get_all_file_path_in(f\"{AFTER_DA_PYTHON_DIR}{test_name}\")\n",
    "        + get_all_file_path_in(f\"{AFTER_DA_JAVA_DIR}{test_name}\")\n",
    "        + [\n",
    "            \"./input.txt\",\n",
    "            f\"{BEFORE_DA_JAVA_DIR}{test_name}.java\",\n",
    "            f\"{BEFORE_DA_PYTHON_DIR}{test_name}.py\",\n",
    "        ]\n",
    "    )\n",
    "    create_zip_from_list(file_path_ls, f\"{test_name}.zip\")"
   ]
  }
 ],
 "metadata": {
  "kernelspec": {
   "display_name": "Python 3",
   "language": "python",
   "name": "python3"
  },
  "language_info": {
   "codemirror_mode": {
    "name": "ipython",
    "version": 3
   },
   "file_extension": ".py",
   "mimetype": "text/x-python",
   "name": "python",
   "nbconvert_exporter": "python",
   "pygments_lexer": "ipython3",
   "version": "3.11.5"
  },
  "orig_nbformat": 4
 },
 "nbformat": 4,
 "nbformat_minor": 2
}
